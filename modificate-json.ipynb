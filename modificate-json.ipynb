{
 "cells": [
  {
   "cell_type": "code",
   "execution_count": 1,
   "metadata": {},
   "outputs": [],
   "source": [
    "import json"
   ]
  },
  {
   "cell_type": "code",
   "execution_count": 3,
   "metadata": {},
   "outputs": [
    {
     "name": "stdout",
     "output_type": "stream",
     "text": [
      "Manipulasi selesai. Data disimpan dalam manipulated_data.json\n"
     ]
    }
   ],
   "source": [
    "#  Membaca JSON dari file\n",
    "with open('project-1-at-2024-01-14-12-05-60195429.json') as json_file:\n",
    "    data = json.load(json_file)\n",
    "\n",
    "# Iterasi melalui setiap entitas anotasi\n",
    "for annotation in data:\n",
    "    # Mendapatkan nama file dari atribut \"file_upload\"\n",
    "    file_upload = annotation.get(\"file_upload\", \"\")\n",
    "\n",
    "    # Memisahkan nama file menggunakan delimiter \"-\"\n",
    "    file_parts = file_upload.split(\"-\")\n",
    "\n",
    "    # Mengambil elemen terakhir sebagai hasil manipulasi\n",
    "    manipulated_filename = file_parts[-1].strip()\n",
    "\n",
    "    # Menambahkan hasil manipulasi ke dalam data\n",
    "    annotation[\"file_upload\"] = manipulated_filename\n",
    "\n",
    "# Menyimpan hasil manipulasi ke dalam file JSON baru\n",
    "output_filename = 'manipulated_data.json'\n",
    "with open(output_filename, 'w') as output_file:\n",
    "    json.dump(data, output_file, indent=4)\n",
    "\n",
    "print(f\"Manipulasi selesai. Data disimpan dalam {output_filename}\")\n"
   ]
  }
 ],
 "metadata": {
  "kernelspec": {
   "display_name": "viskom",
   "language": "python",
   "name": "python3"
  },
  "language_info": {
   "codemirror_mode": {
    "name": "ipython",
    "version": 3
   },
   "file_extension": ".py",
   "mimetype": "text/x-python",
   "name": "python",
   "nbconvert_exporter": "python",
   "pygments_lexer": "ipython3",
   "version": "3.7.16"
  }
 },
 "nbformat": 4,
 "nbformat_minor": 2
}
